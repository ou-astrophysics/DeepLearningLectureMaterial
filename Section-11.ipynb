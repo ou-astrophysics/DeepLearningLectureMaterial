{
 "cells": [
  {
   "cell_type": "markdown",
   "metadata": {},
   "source": [
    "# Section 11"
   ]
  },
  {
   "cell_type": "markdown",
   "metadata": {},
   "source": [
    "## Assignment\n",
    "\n",
    "### Part I: AST4031 and AST5031\n",
    "\n",
    "1. Generate a dataset with 100 measurements: 30% from a Gaussian distribution with N(0,1), and 70% from N(5,1).\n",
    "2. Plot the histogram of the dataset. To see how histograms can be misleading, take the positions of the bin centers and shift them by 0.25. Comment on the differences.\n",
    "\n",
    "     \n",
    "3. Now, use `sklearn.KernelDensity` to: \n",
    "    1. Plot the available kernels (one way would be to fit your KDE to a null vector)\n",
    "    2. Perform a kernel density estimation of the distribution of the dataset. Plot this in comparison with your histograms. \n",
    "5. Discuss the difference between histogramming and using density estimation.\n",
    "4. For KDE you need to set the kernel width. Optimize the kernel width using a grid search cross-validation. Use `GridSearchCV`. \n",
    "5. Perform your fit again with 3 different kernels but this time use the optimized kernel width you found above. Compare this to the true PDF for your dataset."
   ]
  },
  {
   "cell_type": "code",
   "execution_count": null,
   "metadata": {},
   "outputs": [],
   "source": []
  },
  {
   "cell_type": "markdown",
   "metadata": {},
   "source": [
    "### Part II: AST5031 only\n",
    "Use the `astroML.fetch_great_wall` function to import RA and DEC of galaxies in the SDSS great wall region. Repeat 1-5 using the galaxies' distribution in 2D."
   ]
  },
  {
   "cell_type": "code",
   "execution_count": null,
   "metadata": {},
   "outputs": [],
   "source": []
  }
 ],
 "metadata": {
  "kernelspec": {
   "display_name": "Python 3",
   "language": "python",
   "name": "python3"
  },
  "language_info": {
   "codemirror_mode": {
    "name": "ipython",
    "version": 3
   },
   "file_extension": ".py",
   "mimetype": "text/x-python",
   "name": "python",
   "nbconvert_exporter": "python",
   "pygments_lexer": "ipython3",
   "version": "3.7.2"
  }
 },
 "nbformat": 4,
 "nbformat_minor": 2
}
