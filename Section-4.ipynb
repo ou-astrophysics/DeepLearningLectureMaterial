{
 "cells": [
  {
   "cell_type": "markdown",
   "metadata": {},
   "source": [
    "# Section 4"
   ]
  },
  {
   "cell_type": "markdown",
   "metadata": {},
   "source": [
    "## Preliminaries\n",
    "\n",
    "### Essential Reading\n",
    "Before attempting this section you should read \"[_On the Estimation of Confidence Intervals for Binomial Population Proportions in Astronomy: The Simplicity and Superiority of the Bayesian Approach_](https://arxiv.org/pdf/1012.0566.pdf)\" by Ewan Cameron."
   ]
  },
  {
   "cell_type": "markdown",
   "metadata": {},
   "source": [
    "## Assignment\n",
    "\n",
    "Complete the following problems. Use code cells to develop and run any Python code required and Markdown cells to respond to any auxilliary questions that ask you to interpret your results.\n",
    "\n",
    "### Exercise 1 (AST4031 & AST5031):\n",
    "\n",
    "A common problem that astronomers often encounter is how to assign appropriate error bars to measured frequencies. In this exercise you will demonstrate how the most commonly used approach - assuming Gaussian errors - can have serious shortcomings under certain circumstances. Subsequently, you will demonstrate that an alternative prescription provides better estimates for the errors.\n",
    "\n",
    "1. Write a program that simulates a random variable with a Binomial PDF.\n",
    "2. Write code to simulate a large number of random realizations of [Bernoulli processes](https://en.wikipedia.org/wiki/Bernoulli_process) for different numbers of Bernoulli trials $N$ and success probabilities $p$.\n",
    "3. For each random realization, compute an estimator $\\hat{p}$ for the true value of $p$.\n",
    "4. For each random realization, compute confidence intervals on the estimated $\\hat{p}$ using two of the methods outlined in [the _Essential Reading_](https://arxiv.org/pdf/1012.0566.pdf)\n",
    "    1. Using the \"Normal approximation\".\n",
    "    2. Using Binomial Confidence Intervals.\n",
    "5. For each type of confidence interval, write code to compute the _coverage_ as the fraction of realizations for which the confidence interval contains the true value of $p$.\n",
    "6. Show how the coverage changes as a function $N$ and $p$."
   ]
  },
  {
   "cell_type": "code",
   "execution_count": null,
   "metadata": {},
   "outputs": [],
   "source": []
  },
  {
   "cell_type": "markdown",
   "metadata": {},
   "source": [
    "### Exercise 2 (AST5031 Only):\n",
    "Generalize the reasoning from _Part 1_ to a Poissonian distribution and repeat steps 1-6."
   ]
  },
  {
   "cell_type": "code",
   "execution_count": null,
   "metadata": {},
   "outputs": [],
   "source": []
  }
 ],
 "metadata": {
  "kernelspec": {
   "display_name": "Python 3",
   "language": "python",
   "name": "python3"
  },
  "language_info": {
   "codemirror_mode": {
    "name": "ipython",
    "version": 3
   },
   "file_extension": ".py",
   "mimetype": "text/x-python",
   "name": "python",
   "nbconvert_exporter": "python",
   "pygments_lexer": "ipython3",
   "version": "3.6.5"
  }
 },
 "nbformat": 4,
 "nbformat_minor": 2
}
