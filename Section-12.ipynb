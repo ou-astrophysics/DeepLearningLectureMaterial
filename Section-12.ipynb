{
 "cells": [
  {
   "cell_type": "markdown",
   "metadata": {},
   "source": [
    "# Section 12"
   ]
  },
  {
   "cell_type": "markdown",
   "metadata": {},
   "source": [
    "## Assignment\n",
    "\n",
    "### Part I: AST4031 and AST5031\n",
    "\n",
    "1. Create a fake 2D dataset made out of 5 \"Gaussian blobs\" centered at $[2,2]$, $[-2,-2]$, $[2,-2]$, $[-1,1]$ and $[-0.5,0.5]$, all with the same standard deviation of 0.5.\n",
    "2. Make a plot highlighting the true blob membership of each point. [_Tip: do not recreate the point distribution multiple times._]\n",
    "3. Read about the scikit implementation of various clustering algorithms here:\n",
    "\n",
    "    [https://scikit-learn.org/stable/modules/clustering.html](https://scikit-learn.org/stable/modules/clustering.html)\n",
    "\n",
    "    1. Read about the parameter settings of KMeans.\n",
    "        1. Apply the K-mean algorithm to the blob dataset. Explore how the results change as you change: `n_init` and `n_clusters`.\n",
    "        1. Make the same plot as in _Question 2_, but now use the membership you found with K-mean.\n",
    "    2. Read about the parameter settings of the agglomorative clustering algorithm.\n",
    "        1. Apply the algorithm to the blobs. Make a plot showing the linked members of the clusters.\n",
    "        2. Explore how the results change as you change the `n_clusters`, `linkage`, and the `affinity` parameters.\n",
    "    3. Read about the parameter settings of the mean shift algorithm.\n",
    "        1. Apply the algorithm to the blobs. \n",
    "        2. Explore how the results change as you change the `bandwidth`."
   ]
  },
  {
   "cell_type": "code",
   "execution_count": null,
   "metadata": {},
   "outputs": [],
   "source": []
  },
  {
   "cell_type": "markdown",
   "metadata": {},
   "source": [
    "### Part II: AST5031 only\n",
    "1. Use the \"gap statistic\" to find the best number of clusters, for K-mean:\n",
    "    1. Create 20 realizations of a database with uniformly distributed points in 2D, in the same range as the observed data, with uniform distribution in a box, whose sizes will have to be determined from the real data\n",
    "    2. Define a routine that, for each K, computes the total within-cluster-distance squared (L in lecture).\n",
    "    3. For each K compare L computed for the dataset with the average of the 20 simulated datasets.\n",
    "    4. Make a plot showing the _Gap_ statistic as a function of the number of clusters. Describe how you chose the best K."
   ]
  },
  {
   "cell_type": "code",
   "execution_count": null,
   "metadata": {},
   "outputs": [],
   "source": []
  }
 ],
 "metadata": {
  "kernelspec": {
   "display_name": "Python 3",
   "language": "python",
   "name": "python3"
  },
  "language_info": {
   "codemirror_mode": {
    "name": "ipython",
    "version": 3
   },
   "file_extension": ".py",
   "mimetype": "text/x-python",
   "name": "python",
   "nbconvert_exporter": "python",
   "pygments_lexer": "ipython3",
   "version": "3.7.2"
  }
 },
 "nbformat": 4,
 "nbformat_minor": 2
}
