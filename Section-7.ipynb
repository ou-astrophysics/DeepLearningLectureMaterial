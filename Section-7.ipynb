{
 "cells": [
  {
   "cell_type": "markdown",
   "metadata": {},
   "source": [
    "# Section 7"
   ]
  },
  {
   "cell_type": "markdown",
   "metadata": {},
   "source": [
    "## Preliminaries\n",
    "\n",
    "### Data Sources\n",
    "This repository contains a file named `GC_NGC4365.fits`, which you will need for the excercises in this section. "
   ]
  },
  {
   "cell_type": "markdown",
   "metadata": {},
   "source": [
    "## Assignment\n",
    "\n",
    "Complete the following problems. Use code cells to develop and run any Python code required and Markdown cells to respond to any auxilliary questions that ask you to interpret your results.\n",
    "\n",
    "### Exercise 1 (AST4031 & AST5031):\n",
    "\n",
    "In [Blom et al. (2012)](https://arxiv.org/abs/1207.6398) photometric data are presented to select globular cluster (GCs) candidates in the giant elliptical galaxy NGC4365.\n",
    "The authors used the data to revisit the question of whether NGC4365 has a bimodal or trimodal GC color distribution and found support for three distinct GC color subpopulations.\n",
    "\n",
    "In this practical section you will use new data from [Pota et al. (2013)](https://arxiv.org/abs/1304.6723) to re-explore the Blom et al. conclusion. The new data include photometry for a sample of spectroscopically confirmed (as opposed to photometric GC candidates) GCs in NGC4365. The data can be found in the `GC_NGC4365.fits` file that this repository includes. Use the **$g-i$** color to perform the analysis of the subpopulations.\n",
    "\n",
    "1. Describe the GC distribution as a multigaussian model. Using [`scikit-learn` GaussianMixture](https://scikit-learn.org/stable/modules/mixture.html) and both the AIC and BIC criteria, decide whether three populations are really supported by the data. If not, report and discuss how many you do find.\n",
    "2. Assign each GC to one of the components. Plot the probability as a function of GC color to show your results.  \n",
    "3. Plot the RA and DEC of the GCs assigned to different populations. Are different populations spatially distributed in a different way within the galaxy?"
   ]
  },
  {
   "cell_type": "code",
   "execution_count": null,
   "metadata": {},
   "outputs": [],
   "source": []
  },
  {
   "cell_type": "markdown",
   "metadata": {},
   "source": [
    "### Exercise 2 (AST5031 Only):\n",
    "\n",
    "1. Write your own **Expectation Maximization** algorithm to compute the best fit parameters of the $M$ gaussian components you found with sklearn.\n",
    "2. Compare your results with those derived with `scikit-learn` and comment on your observations."
   ]
  },
  {
   "cell_type": "code",
   "execution_count": null,
   "metadata": {},
   "outputs": [],
   "source": []
  }
 ],
 "metadata": {
  "kernelspec": {
   "display_name": "Python 3",
   "language": "python",
   "name": "python3"
  },
  "language_info": {
   "codemirror_mode": {
    "name": "ipython",
    "version": 3
   },
   "file_extension": ".py",
   "mimetype": "text/x-python",
   "name": "python",
   "nbconvert_exporter": "python",
   "pygments_lexer": "ipython3",
   "version": "3.6.8"
  }
 },
 "nbformat": 4,
 "nbformat_minor": 2
}
