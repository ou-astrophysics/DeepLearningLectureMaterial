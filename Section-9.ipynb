{
 "cells": [
  {
   "cell_type": "markdown",
   "metadata": {},
   "source": [
    "# Section 9"
   ]
  },
  {
   "cell_type": "markdown",
   "metadata": {},
   "source": [
    "## Assignment\n",
    "\n",
    "Today you are going to reproduce the example involving the coin tosses taken from the lecture notes.\n",
    "\n",
    "### Exercise 1 (AST4031 & AST5031):\n",
    "\n",
    "#### Part I: Toss a coin and estimate the bias for heads\n",
    "\n",
    "Calculate the posterior PDF for a coin bias for heads ($H$). As in the notes, a \"fair\" coin has $H = 0.5$, i.e. heads and tails are equally likely. A coin with $H<= 0.5$ is biased to tails; $H>0.5$ is biased to heads; $H = 0$ is a two-tailed coin; $H = 1$ is a two-headed coin.\n",
    "\n",
    "1. Write a code that simulate N coin tosses, for a coin with $H=0.2$. You will simulate ($N=0, 1, 2, 3, 4, 10, 50, 100, 200, 500$ coin tosses)\n",
    "2. Write a code that, given the result of the coin tosses, computes the posterior PDF of $H$ over $[0,1]$. Assuming a constant prior for $H$.\n",
    "3. Compute and show the posteriors for all values of $N$. For $N=1,2,3,4$ specify whether we draw head or tail.\n",
    "4. What happens as you increase $N$?\n",
    "5. Change the bias of the coin to 0.5, and repeat (I.2-I.4). Comment on the differences with respect to $H=0.2$\n",
    "\n",
    "#### Part II: Changing the prior\n",
    "1. Change the prior to a Gaussian of mean $\\mu$ and width $\\sigma$? (run $N=100$ tosses)\n",
    "2. Change the location and width of the prior PDF through the $\\mu$, $\\sigma$ values. How does the posterior change when you go from a loose prior to a strong one (large $\\sigma$ to small $\\sigma$)?\n",
    "3. Given $\\mu = 0.5$ and $\\sigma = 0.05$, how can you improve the posterior estimate of $H$?\n",
    "4. How many N do you need to determine bias-weighting to within 0.1 for each prior?\n",
    "5. Make a plot of $H$ (with error bars) as a function of $N$ (for 30 values of $N$ between 1 and $10^3$). Also plot the value of the true $H$."
   ]
  },
  {
   "cell_type": "code",
   "execution_count": null,
   "metadata": {},
   "outputs": [],
   "source": []
  },
  {
   "cell_type": "markdown",
   "metadata": {},
   "source": [
    "### Exercise 2 (AST5031):\n",
    "Consider an extreme prior, that gives more weight to $H=0$ and $H=1$. [Hint: consider the beta distribution].  Repeat I.2 and I.3. How does the posterior change as a function of $N$?"
   ]
  },
  {
   "cell_type": "code",
   "execution_count": null,
   "metadata": {},
   "outputs": [],
   "source": []
  }
 ],
 "metadata": {
  "kernelspec": {
   "display_name": "Python 3",
   "language": "python",
   "name": "python3"
  },
  "language_info": {
   "codemirror_mode": {
    "name": "ipython",
    "version": 3
   },
   "file_extension": ".py",
   "mimetype": "text/x-python",
   "name": "python",
   "nbconvert_exporter": "python",
   "pygments_lexer": "ipython3",
   "version": "3.7.2"
  }
 },
 "nbformat": 4,
 "nbformat_minor": 2
}
