{
 "cells": [
  {
   "cell_type": "markdown",
   "metadata": {},
   "source": [
    "# Section 3"
   ]
  },
  {
   "cell_type": "markdown",
   "metadata": {},
   "source": [
    "## Assignment - Populate a Universe with galaxies.\n",
    "\n",
    "_For simplicity, assume an Euclidean Universe with $S=\\frac{L}{r^{2}}$, where $S$ is the observed flux._\n",
    "\n",
    "### Part 1: Set up a toy universe (i.e., populate it with \"real\" galaxies) in two ways\n",
    "1. _Universe 1_: Create $10^{6}$ random galaxies uniformly distributed inside a spherical volume of $r=1$ and all with a single luminosity of $L=10$ units.\n",
    "2. _Universe 2_: Create $10^{6}$ random galaxies uniformly distributed inside a sphere of $r=1$ and with luminosities distributed according a power law in luminosity with slope of −3 (i.e. $\\frac{dn}{dL}=L^{−3}$).\n",
    "\n",
    "**Make sure you check your distributions** (i.e. plot the histogram of simulated luminosities in both universes).\n",
    "\n",
    "### Part 2: Now survey the sky: \n",
    "\n",
    "1. For both universes, calculate the number of galaxies on the sky as a function of the observed flux ($S$), and plot these galaxy counts in uniform log bins. \n",
    "2. Make the same plot in linear bins of flux. What changes? \n",
    "3. For _Universe 1_, assume the telescope is sensitive to fluxes down to $\\frac{0.1\\cdot L}{r_{\\max}^{2}}$. For _Universe 2_ assume a telescope with sensitivity limit of 30 flux units. **Something missing here? Maybe \"Calculate the number of galaxies that are _detected_ by each telescope as a function of $S$\"**. Are the results realistic? \n",
    "4. Make a plot of luminosity versus distance, and highlight the objects you can detect. What can you conclude? \n",
    "5. Look at how the distribution of luminosity changes as you apply your flux limit. Why do the number counts have the same slopes in both universes?"
   ]
  },
  {
   "cell_type": "code",
   "execution_count": null,
   "metadata": {},
   "outputs": [],
   "source": []
  }
 ],
 "metadata": {
  "kernelspec": {
   "display_name": "Python 3",
   "language": "python",
   "name": "python3"
  },
  "language_info": {
   "codemirror_mode": {
    "name": "ipython",
    "version": 3
   },
   "file_extension": ".py",
   "mimetype": "text/x-python",
   "name": "python",
   "nbconvert_exporter": "python",
   "pygments_lexer": "ipython3",
   "version": "3.6.5"
  }
 },
 "nbformat": 4,
 "nbformat_minor": 2
}
