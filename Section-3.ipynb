{
 "cells": [
  {
   "cell_type": "markdown",
   "metadata": {},
   "source": [
    "# Section 3"
   ]
  },
  {
   "cell_type": "markdown",
   "metadata": {},
   "source": [
    "## Preliminaries\n",
    "\n",
    "Recall that an infinitessimal volume element $dV$ can be expressed in spherical polar coordinates as\n",
    "$$dV=r^2sin\\phi d\\theta d\\phi dr$$ \n",
    "where \n",
    "$$\\theta \\in [0,2\\pi),\\; \\phi \\in [0,\\pi],\\;r \\in [0,R]$$\n",
    "Now, to generate uniformly distributed points inside a spherical volume with $r_{max}=1$ we sample three random numbers $u, v, j\\in(0,1)$ then convert these to spherical polar coordinates using:\n",
    "\n",
    "\\begin{align}\n",
    "\\theta &=2\\pi\\cdot u\\\\\n",
    "\\phi&=cos^{-1}(2v-1)\\\\\n",
    "r &= j^{1/3}\n",
    "\\end{align}\n",
    "\n",
    "To verify that your distribution is indeed correct, plot the histogram of the densities in volume elements described by $\\frac{4\\pi}{3}[r_2^3-r_1^3]$\n",
    "\n",
    "## Assignment - Populate a Universe with galaxies.\n",
    "\n",
    "_For simplicity, assume an Euclidean Universe with $S=\\frac{L}{r^{2}}$, where $S$ is the observed flux._\n",
    "\n",
    "### Part 1: Set up a toy universe (i.e., populate it with \"real\" galaxies) in two ways\n",
    "1. _Universe 1_: Create $10^{6}$ random galaxies uniformly distributed inside a spherical volume of $r=1$ and all with a single luminosity of $L=10$ units.\n",
    "2. _Universe 2_: Create $10^{6}$ random galaxies uniformly distributed inside a sphere of $r=1$ and with luminosities distributed according a power law in luminosity with slope of $−3$ (i.e. $\\frac{dn}{dL}=L^{−3}$).\n",
    "\n",
    "**Make sure you check your distributions** (i.e. plot the histograms of source density and simulated luminosity in both universes).\n",
    "\n",
    "### Part 2: Now survey the sky: \n",
    "\n",
    "1. For both universes, calculate the number of galaxies on the sky as a function of the observed flux ($S$), and plot these galaxy counts in uniform log bins. For _Universe 1_, assume the telescope is sensitive to fluxes down to $\\frac{0.1\\cdot L}{r_{\\max}^{2}}$. For _Universe 2_ assume a telescope with sensitivity limit of 30 flux units.\n",
    "2. Are the results realistic? \n",
    "3. Make a plot of luminosity versus distance, and highlight the objects you can detect. What can you conclude? \n",
    "4. Look at how the distribution of luminosity changes as you apply your flux limit. Why do the number counts have the same slopes in both universes?\n",
    "\n",
    "### Part 3 (AST5031 only):\n",
    "Imagine that the Universe is permeated by a uniformly distributed, absorbing \"aether\", with a grey extinction curve that attenuates all wavelength equally. \n",
    "1. Show how your observed number counts change in each universe.\n",
    "2. Is it possible to use only the observed number counts to distinguish the presence or absence of such an aether in either universe?"
   ]
  },
  {
   "cell_type": "code",
   "execution_count": null,
   "metadata": {},
   "outputs": [],
   "source": []
  }
 ],
 "metadata": {
  "kernelspec": {
   "display_name": "Python 3",
   "language": "python",
   "name": "python3"
  },
  "language_info": {
   "codemirror_mode": {
    "name": "ipython",
    "version": 3
   },
   "file_extension": ".py",
   "mimetype": "text/x-python",
   "name": "python",
   "nbconvert_exporter": "python",
   "pygments_lexer": "ipython3",
   "version": "3.6.5"
  }
 },
 "nbformat": 4,
 "nbformat_minor": 2
}
