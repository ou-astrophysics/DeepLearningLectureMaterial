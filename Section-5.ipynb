{
 "cells": [
  {
   "cell_type": "markdown",
   "metadata": {},
   "source": [
    "# Section 4"
   ]
  },
  {
   "cell_type": "markdown",
   "metadata": {},
   "source": [
    "## Preliminaries\n",
    "\n",
    "### Data Sources\n",
    "This repository contains two files named `ABELL_3266.fits` and `ABELL_3266_contaminants.fits`, which you will need for the excercises in this section. "
   ]
  },
  {
   "cell_type": "markdown",
   "metadata": {},
   "source": [
    "## Assignment\n",
    "\n",
    "Complete the following problems. Use code cells to develop and run any Python code required and Markdown cells to respond to any auxilliary questions that ask you to interpret your results.\n",
    "\n",
    "### Exercise 1 (AST4031 & AST5031):\n",
    "\n",
    "The `ABELL_3266.fits` file in this repository contains the measurements of the velocities and their errors for more than 300 galaxies in the [cluster ABELL-3266](http://www.noao.edu/outreach/press/pr05/images/A3266_1200.jpg). Measuring accurate velocity dispersions for clusters of galaxies is important because it gives an estimate of their dynamical mass (i.e. the total mass of their baryonic and dark matter components). The comparison between the dynamical mass and  the mass locked in stars and gas directly provides a measurement of the amount of dark matter.  \n",
    "\n",
    "Another example would be the recent paper in _Nature_ by [van Dokkum et al.](https://arxiv.org/abs/1803.10237), which claimed the existence of a galaxy without dark matter, based on the fitted velocity dispersion to a sample of globular clusters in the galaxy.\n",
    "\n",
    "1. Read in the data that the `ABELL_3266.fits` file contains.\n",
    "2. By using MLE to fit a Gaussian to the cluster galaxy velocities, obtain the distance of the cluster (i.e. the average velocity) and the cluster's velocity dispersion, accounting for the error in each velocity measurement. \n",
    "    * Hint: remember that the convolution of two Gaussians is a Gaussian with variance equal to the sum of the two input variances.\n",
    "3. So far, we have assumed just one Gaussian is sufficient to describe the velocity distribution of the cluster galaxies i.e. we assumed that all galaxies are cluster members. How would you change the model if I told you that the sample also includes some possible contamination by background and foreground sources? \n",
    "    * Hint: the contaminants are uniformly selected to have velocities between 0 and 90,000 km/s. \n",
    "4. Formulate the solution of the problem using text and markdown equations. "
   ]
  },
  {
   "cell_type": "code",
   "execution_count": null,
   "metadata": {},
   "outputs": [],
   "source": []
  },
  {
   "cell_type": "markdown",
   "metadata": {},
   "source": [
    "### Exercise 2 (AST5031 Only):\n",
    "\n",
    "1. Use the `ABELL_3266_contaminants.fits` file in this repository to fit for the cluster velocity dispersion (for simplicity, assume the distance you derived in _Question 2_) and any other parameters you need for the solution you formulated in _Question 4_. \n",
    "2. Using MLE, find the best fit velocity dispersion of the cluster in the presence of the outliers."
   ]
  },
  {
   "cell_type": "code",
   "execution_count": null,
   "metadata": {},
   "outputs": [],
   "source": []
  }
 ],
 "metadata": {
  "kernelspec": {
   "display_name": "Python 3",
   "language": "python",
   "name": "python3"
  },
  "language_info": {
   "codemirror_mode": {
    "name": "ipython",
    "version": 3
   },
   "file_extension": ".py",
   "mimetype": "text/x-python",
   "name": "python",
   "nbconvert_exporter": "python",
   "pygments_lexer": "ipython3",
   "version": "3.7.2"
  }
 },
 "nbformat": 4,
 "nbformat_minor": 2
}
