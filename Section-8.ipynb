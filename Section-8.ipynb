{
 "cells": [
  {
   "cell_type": "markdown",
   "metadata": {},
   "source": [
    "# Section 7"
   ]
  },
  {
   "cell_type": "markdown",
   "metadata": {},
   "source": [
    "## Preliminaries\n",
    "\n",
    "### Data Sources\n",
    "This repository contains two files named `radioflat.txt` and `radiosteep.txt`, which you will need for the excercises in this section. "
   ]
  },
  {
   "cell_type": "markdown",
   "metadata": {},
   "source": [
    "## Assignment\n",
    "\n",
    "Complete the following problems. Use code cells to develop and run any Python code required and Markdown cells to respond to any auxilliary questions that ask you to interpret your results.\n",
    "\n",
    "### Exercise 1 (AST4031 & AST5031):\n",
    "\n",
    "[Masson & Wall (1977)](http://adsabs.harvard.edu/abs/1977MNRAS.180..193M) examined the luminosity functions of so-called flat and steep radio spectrum quasars to study the cosmological evolution of these objects. Today you'll perform your own assessment on whether or not these two samples come from the same parent distribution. The data for their simple source count distributions are available below for both the steep and flat spectrum quasars in their study.\n",
    "1. Write your own functions to compute data binning according to Scott's Rule and the Freedman-Diaconis Rule. Compare the data binned according to these rules to matplotlib's default binning. Choose a binning strategy and explain your choice.\n",
    "2. Plot the frequency histograms for the steep spectrum and flat spectrum quasars. Include error bars in your plot. Discuss your calculation of the errors.\n",
    "3. Comment qualitatively on the relative appearance of these 2 histograms.\n",
    "4. Plot the cumulative frequency distributions of the two samples.\n",
    "5. Use scipy's 2-sample Kolmogorov-Smirnov test to quantitatively address whether the parent distributions of these 2 object classes are the same.\n",
    "6. Use scipy's $U$ test to compare the 2 samples and address whether the parent distributions of these 2 object classes are the same. How does this test compare with the answer from the Kolmogorov-Smirnov test?"
   ]
  },
  {
   "cell_type": "code",
   "execution_count": null,
   "metadata": {},
   "outputs": [],
   "source": []
  },
  {
   "cell_type": "markdown",
   "metadata": {},
   "source": [
    "### Exercise 2 (AST5031 Only):"
   ]
  },
  {
   "cell_type": "code",
   "execution_count": null,
   "metadata": {},
   "outputs": [],
   "source": []
  }
 ],
 "metadata": {
  "kernelspec": {
   "display_name": "Python 3",
   "language": "python",
   "name": "python3"
  },
  "language_info": {
   "codemirror_mode": {
    "name": "ipython",
    "version": 3
   },
   "file_extension": ".py",
   "mimetype": "text/x-python",
   "name": "python",
   "nbconvert_exporter": "python",
   "pygments_lexer": "ipython3",
   "version": "3.7.2"
  }
 },
 "nbformat": 4,
 "nbformat_minor": 2
}
