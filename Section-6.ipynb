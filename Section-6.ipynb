{
 "cells": [
  {
   "cell_type": "markdown",
   "metadata": {},
   "source": [
    "# Section 6"
   ]
  },
  {
   "cell_type": "markdown",
   "metadata": {},
   "source": [
    "## Preliminaries\n",
    "\n",
    "### Data Sources\n",
    "This repository contains a file named `test_correlation.fits`, which you will need for the excercises in this section. "
   ]
  },
  {
   "cell_type": "markdown",
   "metadata": {},
   "source": [
    "## Assignment\n",
    "\n",
    "Complete the following problems. Use code cells to develop and run any Python code required and Markdown cells to respond to any auxilliary questions that ask you to interpret your results.\n",
    "\n",
    "### Exercise 1 (AST4031 & AST5031):\n",
    "\n",
    "In this problem you will construct an approximate p.d.f. for the Pearson, Spearman’s and Kendall’s correlation coefficients using the bootstrap method.\n",
    "\n",
    "1. The file `test_correlation.fits` contains a sample of $N=200$ pairs $\\{x_{i}, y_{i}\\}$. Make a plot to visualize the data.\n",
    "2. Compute the Pearson’s, Spearman’s and Kendall’s correlation coefficients, using functions from the `scipy.stats` module.\n",
    "    * What is the significance of this correlation i.e. what is the probability that the computed values arise by chance, under the hypothesis that the variables are uncorrelated? Use [_Markdown_](https://www.markdownguide.org) equations and text to show how you arrive at your conclusions and to explain your reasoning.\n",
    "3. Write a code to resample your dataset with using the _bootstrap_ method. Draw one bootstrap sample for $\\{x_{i}, y_{i}\\}$. Discuss and show graphically the steps and checks you performed to verify that your bootstrap sample is correct.\n",
    "4. Draw 1000 bootstrap samples from $\\{x_{i}, y_{i}\\}$. For each sample, recompute the three estimators of the correlation coefficient from _Step 2_.\n",
    "5. Plot the bootstrap distribution for the correlation coefficients. Use these distributions to derive confidence intervals for the coefficients.\n",
    "6. Use the MLE to estimate the best fit parameters of a linear relation (i.e., $y=ax+b$).\n",
    "7. Augment the previous dataset by adding the following three pairs of outliers: \n",
    "\\begin{align}\n",
    "p_1&=(-0.6,-2.1)\\\\\n",
    "p_2&=(-0.76,0.92)\\\\\n",
    "p_3&=(-2,-5)\n",
    "\\end{align}\n",
    "   Repeat Steps 3 and 4 using this augmented dataset.  \n",
    "   * How do the distributions of correlation coefficients change now that we have added these outliers? \n",
    "   * Make a plot comparing the bootstrap distributions obtained from the old and the new dataset."
   ]
  },
  {
   "cell_type": "code",
   "execution_count": null,
   "metadata": {},
   "outputs": [],
   "source": []
  },
  {
   "cell_type": "markdown",
   "metadata": {},
   "source": [
    "### Exercise 2 (AST5031 Only):\n",
    "\n",
    "1. Repeat _Step 6_ from _Excercise 1_ but using the augmented file with the outliers. Account for the possibility of having outliers in your definition of the likelihood. "
   ]
  },
  {
   "cell_type": "code",
   "execution_count": null,
   "metadata": {},
   "outputs": [],
   "source": []
  }
 ],
 "metadata": {
  "kernelspec": {
   "display_name": "Python 3",
   "language": "python",
   "name": "python3"
  },
  "language_info": {
   "codemirror_mode": {
    "name": "ipython",
    "version": 3
   },
   "file_extension": ".py",
   "mimetype": "text/x-python",
   "name": "python",
   "nbconvert_exporter": "python",
   "pygments_lexer": "ipython3",
   "version": "3.6.8"
  }
 },
 "nbformat": 4,
 "nbformat_minor": 2
}
