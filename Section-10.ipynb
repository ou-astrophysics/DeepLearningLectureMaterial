{
 "cells": [
  {
   "cell_type": "markdown",
   "metadata": {},
   "source": [
    "# Section 10"
   ]
  },
  {
   "cell_type": "markdown",
   "metadata": {},
   "source": [
    "## Preliminaries\n",
    "\n",
    "### Data Sources\n",
    "This repository contains a file named `spectrum.dat`, which you will need for the excercises in this section."
   ]
  },
  {
   "cell_type": "markdown",
   "metadata": {},
   "source": [
    "## Assignment\n",
    "\n",
    "Use the [EMCEE](http://dfm.io/emcee/current/) package to apply a MCMC analysis to fit a two-Gaussian emission line model to the spectrum data in `spectrum.dat` available on the repository. Only focus on the wavelength range $6780 \\le \\lambda ($Å$) \\le 6860$.\n",
    "1. Start by defining the model for the spectrum data. As you recall, the model can have 6-7 parameters. To make your first experience with MCMC simpler, lets reduce the number of parameters:\n",
    "    * Fix the wavelength for _Line #1_ to $\\lambda = 6811.133$ Å.\n",
    "    * Fix the wavelength for _Line #2_ to  $\\lambda = 6825.906$ Å.\n",
    "    * Fix Width of both lines to be the same, $\\sigma_1 = \\sigma_2$.\n",
    "    * Fix Ratio of line strengths to $A_2 / A_1 = 0.9111$.\n",
    "    * Fix Continuum in the range $6780 < \\lambda < 6860$ to be flat.\n",
    "2. Define prior and likelihood functions and setup the MCMC analysis.\n",
    "3. Choose an appropriate number of walkers and use `emcee` to compute a MCMC chain of an appropriate length. You can assume the errors on the flux values to be approximately Gaussian, with $\\sigma = 0.2\\cdot\\sqrt{f_{sky}}$ (Use the column labelled `SkyFlux` in the data file).\n",
    "4. Plot the paths traced by the MCMC walkers through the parameter space.\n",
    "5. Plot the individal distributions and the the joint distributions for the parameters.\n",
    "6. Report your final best-fit values along with proper error bars.\n",
    "7. Answer the following in context of the problem:\n",
    "    * What happens if you reduce your errors by a factor of 10?\n",
    "    * What happens when you change the prior?\n",
    "    * What happens when you change the initial positions of your walkers?\n",
    "    * What happens when you change the number of walkers?\n",
    "    * How long of a 'burn-in' phase is required?\n",
    "    * Is there any correlation between parameters?\n",
    "\n",
    "Need more information? One of the _Data Mining_ book's authors whas written [a good reference](https://jakevdp.github.io/blog/2014/06/14/frequentism-and-bayesianism-4-bayesian-in-python/) on how to be a Bayesian in Python!"
   ]
  },
  {
   "cell_type": "code",
   "execution_count": null,
   "metadata": {},
   "outputs": [],
   "source": []
  }
 ],
 "metadata": {
  "kernelspec": {
   "display_name": "Python 3",
   "language": "python",
   "name": "python3"
  },
  "language_info": {
   "codemirror_mode": {
    "name": "ipython",
    "version": 3
   },
   "file_extension": ".py",
   "mimetype": "text/x-python",
   "name": "python",
   "nbconvert_exporter": "python",
   "pygments_lexer": "ipython3",
   "version": "3.7.2"
  }
 },
 "nbformat": 4,
 "nbformat_minor": 2
}
