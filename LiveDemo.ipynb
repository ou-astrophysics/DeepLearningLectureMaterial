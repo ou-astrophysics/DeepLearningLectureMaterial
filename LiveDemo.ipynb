{
 "cells": [
  {
   "cell_type": "markdown",
   "metadata": {},
   "source": [
    "# Live Demo!"
   ]
  },
  {
   "cell_type": "markdown",
   "metadata": {},
   "source": [
    "### Imports"
   ]
  },
  {
   "cell_type": "code",
   "execution_count": null,
   "metadata": {},
   "outputs": [],
   "source": [
    "import numpy as np\n",
    "import matplotlib\n",
    "import matplotlib.pyplot as mplplot\n",
    "from mpl_toolkits.mplot3d import Axes3D\n",
    "\n",
    "import tensorflow as tf\n",
    "\n",
    "%matplotlib inline"
   ]
  },
  {
   "cell_type": "markdown",
   "metadata": {},
   "source": [
    "### Generate data"
   ]
  },
  {
   "cell_type": "code",
   "execution_count": null,
   "metadata": {},
   "outputs": [],
   "source": [
    "# specify points that define a helical shape in three dimensions\n",
    "zCoords = np.linspace(0, 1, 1000)\n",
    "yCoords = np.abs(0.5 - zCoords) * np.cos(8 * np.pi * zCoords)\n",
    "xCoords = np.abs(0.5 - zCoords) * np.sin(8 * np.pi * zCoords)\n",
    "\n",
    "sigma = 0.02\n",
    "\n",
    "zSample = np.random.choice(zCoords, 200)\n",
    "ySample = np.abs(0.5 - zSample) * np.cos(\n",
    "    8 * np.pi * zSample\n",
    ") + np.random.normal(0, sigma, zSample.size)\n",
    "xSample = np.abs(0.5 - zSample) * np.sin(\n",
    "    8 * np.pi * zSample\n",
    ") + np.random.normal(0, sigma, zSample.size)\n",
    "zSample = zSample + np.random.normal(0, sigma, zSample.size)\n",
    "\n",
    "\n",
    "zValidationSample = np.random.choice(zCoords, 200)\n",
    "yValidationSample = np.abs(0.5 - zValidationSample) * np.cos(\n",
    "    8 * np.pi * zValidationSample\n",
    ") + np.random.normal(0, sigma, zValidationSample.size)\n",
    "xValidationSample = np.abs(0.5 - zValidationSample) * np.sin(\n",
    "    8 * np.pi * zValidationSample\n",
    ") + np.random.normal(0, sigma, zValidationSample.size)\n",
    "zValidationSample = zValidationSample + np.random.normal(\n",
    "    0, sigma, zValidationSample.size\n",
    ")\n",
    "\n",
    "zTestSample = np.random.choice(zCoords, 200)\n",
    "yTestSample = np.abs(0.5 - zTestSample) * np.cos(\n",
    "    8 * np.pi * zTestSample\n",
    ") + np.random.normal(0, sigma, zTestSample.size)\n",
    "xTestSample = np.abs(0.5 - zTestSample) * np.sin(\n",
    "    8 * np.pi * zTestSample\n",
    ") + np.random.normal(0, sigma, zTestSample.size)\n",
    "zTestSample = zTestSample + np.random.normal(0, sigma, zTestSample.size)"
   ]
  },
  {
   "cell_type": "markdown",
   "metadata": {},
   "source": [
    "### Plot data"
   ]
  },
  {
   "cell_type": "code",
   "execution_count": null,
   "metadata": {},
   "outputs": [],
   "source": [
    "threeDimensionalAxes = mplplot.figure(figsize=(7, 7)).add_subplot(\n",
    "    1, 1, 1, projection=\"3d\"\n",
    ")\n",
    "\n",
    "# plot the points\n",
    "threeDimensionalAxes.plot(\n",
    "    xs=xSample,\n",
    "    ys=ySample,\n",
    "    zs=zSample,\n",
    "    marker=\"o\",\n",
    "    ls=\"none\",\n",
    "    label=\"Training data\",\n",
    ")\n",
    "threeDimensionalAxes.set_xlabel(\"X\", fontsize=\"x-large\")\n",
    "threeDimensionalAxes.set_ylabel(\"Y\", fontsize=\"x-large\")\n",
    "threeDimensionalAxes.set_zlabel(\"Z\", fontsize=\"x-large\")\n",
    "threeDimensionalAxes.legend(fontsize=\"x-large\")\n",
    "\n",
    "mplplot.tight_layout()"
   ]
  },
  {
   "cell_type": "markdown",
   "metadata": {},
   "source": [
    "### Construct Neural Network\n",
    "Construct a simple fully connected network, that will predict X and Y, given Z.\n",
    "* The input layer has 100 units (neurons).\n",
    "* There is one hidden layer with 100 units.\n",
    "* The output layer has 2 units, representing the features that we want to predict (X,Y)\n",
    "\n",
    "Use the `tensorflow.keras.Sequential` class and pass a `list` of `tensorflow.keras.layers.Dense` instances.\n",
    "* The input shape (`[1]`) represents the label Z."
   ]
  },
  {
   "cell_type": "code",
   "execution_count": null,
   "metadata": {},
   "outputs": [],
   "source": [
    "dlmodel = tf.keras.Sequential(\n",
    "    [\n",
    "        tf.keras.layers.Dense(\n",
    "            input_shape=[1], units=100, activation=tf.nn.relu\n",
    "        ),\n",
    "        tf.keras.layers.Dense(units=100, activation=tf.nn.relu),\n",
    "        tf.keras.layers.Dense(units=2, activation=tf.nn.tanh),\n",
    "    ]\n",
    ")"
   ]
  },
  {
   "cell_type": "markdown",
   "metadata": {},
   "source": [
    "### Compile the model\n",
    "When compiling the model we specify the optimizer to use, the loss function and any evaluation metrics we would like to compute.\n",
    "\n",
    "We print an overview of the model using the `summary()` method."
   ]
  },
  {
   "cell_type": "code",
   "execution_count": null,
   "metadata": {},
   "outputs": [],
   "source": [
    "dlmodel.compile(\n",
    "    optimizer=\"adam\", loss=\"mean_squared_error\", metrics=[\"accuracy\"]\n",
    ")\n",
    "\n",
    "print(dlmodel.summary())"
   ]
  },
  {
   "cell_type": "markdown",
   "metadata": {},
   "source": [
    "### Prepare the data\n",
    "We use a `tensorflow.data.Dataset` to pass our training and validation data to the model.\n",
    "\n",
    "We transform our labels to lie in the range [-1,1].\n",
    "\n",
    "We then wrap our labels and features together in a `tuple` and use the `from_tensor_slices()` method to initialize our datasets."
   ]
  },
  {
   "cell_type": "code",
   "execution_count": null,
   "metadata": {},
   "outputs": [],
   "source": [
    "trainingData = ((2 * zSample) - 1, np.array([xSample, ySample]).T)\n",
    "validationData = (\n",
    "    (2 * zValidationSample) - 1,\n",
    "    np.array([xValidationSample, yValidationSample]).T,\n",
    ")\n",
    "\n",
    "trainingDataSet = tf.data.Dataset.from_tensor_slices(trainingData)\n",
    "validationDataSet = tf.data.Dataset.from_tensor_slices(validationData)"
   ]
  },
  {
   "cell_type": "markdown",
   "metadata": {},
   "source": [
    "Now we set up our datasets to shuffle the data and provide it to our model in batches of 10 examples. We also use the `repeat()` method to specify that the each example can be fed to the model as many times as required."
   ]
  },
  {
   "cell_type": "code",
   "execution_count": null,
   "metadata": {},
   "outputs": [],
   "source": [
    "batchSize = 10\n",
    "trainingDataSet = (\n",
    "    trainingDataSet.repeat().shuffle(zSample.size).batch(batchSize)\n",
    ")\n",
    "validationDataSet = (\n",
    "    validationDataSet.repeat().shuffle(zValidationSample.size).batch(batchSize)\n",
    ")"
   ]
  },
  {
   "cell_type": "markdown",
   "metadata": {},
   "source": [
    "### Train the model\n",
    "Model training is accomplished using the `fit()` method. We'll specify that training should continue for 1000 epochs. The `steps_per_epoch` argument is actually redundant (and soon to be deprecated), but is required for now. Since one step involves processing one batch of data, and one epoch involves processing all of the data, then the number of steps per epoch is simply the total number of data divided by the number of data per batch."
   ]
  },
  {
   "cell_type": "code",
   "execution_count": null,
   "metadata": {},
   "outputs": [],
   "source": [
    "trainingHistory = dlmodel.fit(\n",
    "    trainingDataSet,\n",
    "    epochs=1000,\n",
    "    steps_per_epoch=zSample.size // batchSize,\n",
    "    verbose=False,\n",
    "    validation_data=validationDataSet,\n",
    "    validation_steps=zValidationSample.size // batchSize,\n",
    ")"
   ]
  },
  {
   "cell_type": "markdown",
   "metadata": {},
   "source": [
    "### Make some predictions\n",
    "We'll pass a dense grid of Z values and ask our trained model to predict X and Y. We'll compare out model with our training and validation data, as well as the true model that was used to generate them in the first place.\n",
    "\n",
    "Note that we need to scale our Z coordinates in the same way we did when training the model."
   ]
  },
  {
   "cell_type": "code",
   "execution_count": null,
   "metadata": {},
   "outputs": [],
   "source": [
    "xyPredictions = dlmodel.predict((2 * zCoords) - 1)"
   ]
  },
  {
   "cell_type": "code",
   "execution_count": null,
   "metadata": {},
   "outputs": [],
   "source": [
    "threeDimensionalAxes = mplplot.figure(figsize=(7, 7)).add_subplot(\n",
    "    1, 1, 1, projection=\"3d\"\n",
    ")\n",
    "\n",
    "# plot the training points\n",
    "threeDimensionalAxes.plot(\n",
    "    xs=xSample,\n",
    "    ys=ySample,\n",
    "    zs=zSample,\n",
    "    marker=\"o\",\n",
    "    ls=\"none\",\n",
    "    alpha=0.5,\n",
    "    label=\"Training\",\n",
    ")\n",
    "# plot the training points\n",
    "threeDimensionalAxes.plot(\n",
    "    xs=xValidationSample,\n",
    "    ys=yValidationSample,\n",
    "    zs=zValidationSample,\n",
    "    marker=\"o\",\n",
    "    ls=\"none\",\n",
    "    alpha=0.5,\n",
    "    label=\"Validation\",\n",
    ")\n",
    "\n",
    "# plot the model\n",
    "threeDimensionalAxes.plot(\n",
    "    xs=xCoords, ys=yCoords, zs=zCoords, ls=\"--\", c=\"r\", label=\"Model\", lw=0.5\n",
    ")\n",
    "# plot the fit\n",
    "threeDimensionalAxes.plot(\n",
    "    xs=xyPredictions[:, 0],\n",
    "    ys=xyPredictions[:, 1],\n",
    "    zs=zCoords,\n",
    "    ls=\":\",\n",
    "    c=\"g\",\n",
    "    lw=3,\n",
    "    label=\"Fit\",\n",
    ")\n",
    "\n",
    "threeDimensionalAxes.set_xlabel(\"X\", fontsize=\"x-large\")\n",
    "threeDimensionalAxes.set_ylabel(\"Y\", fontsize=\"x-large\")\n",
    "threeDimensionalAxes.set_zlabel(\"Z\", fontsize=\"x-large\")\n",
    "threeDimensionalAxes.legend()\n",
    "\n",
    "mplplot.tight_layout()"
   ]
  },
  {
   "cell_type": "markdown",
   "metadata": {},
   "source": [
    "Not bad!"
   ]
  }
 ],
 "metadata": {
  "kernelspec": {
   "display_name": "Python 3",
   "language": "python",
   "name": "python3"
  },
  "language_info": {
   "codemirror_mode": {
    "name": "ipython",
    "version": 3
   },
   "file_extension": ".py",
   "mimetype": "text/x-python",
   "name": "python",
   "nbconvert_exporter": "python",
   "pygments_lexer": "ipython3",
   "version": "3.7.2"
  }
 },
 "nbformat": 4,
 "nbformat_minor": 2
}
